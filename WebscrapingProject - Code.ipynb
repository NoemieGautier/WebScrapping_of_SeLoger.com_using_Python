{
 "cells": [
  {
   "cell_type": "markdown",
   "metadata": {},
   "source": [
    "# Individual Project Noémie Gautier - Draft"
   ]
  },
  {
   "cell_type": "markdown",
   "metadata": {},
   "source": [
    "Webscrapping: SeLoger.com"
   ]
  },
  {
   "cell_type": "markdown",
   "metadata": {},
   "source": [
    "Cities:Lesquin (59810), Faches-Thumesnil (59155), Ronchin (59790), Wattignies (59139).\n"
   ]
  },
  {
   "cell_type": "markdown",
   "metadata": {},
   "source": [
    "## I. COLLECT THE DATA "
   ]
  },
  {
   "cell_type": "markdown",
   "metadata": {},
   "source": [
    "WITH SELENIUM"
   ]
  },
  {
   "cell_type": "code",
   "execution_count": 1,
   "metadata": {},
   "outputs": [
    {
     "name": "stdout",
     "output_type": "stream",
     "text": [
      "Requirement already satisfied: selenium in c:\\anaconda3\\lib\\site-packages (3.141.0)\n",
      "Requirement already satisfied: urllib3 in c:\\anaconda3\\lib\\site-packages (from selenium) (1.25.9)\n"
     ]
    }
   ],
   "source": [
    "#STEP 1: Install Selenium\n",
    "!pip install selenium"
   ]
  },
  {
   "cell_type": "code",
   "execution_count": 2,
   "metadata": {},
   "outputs": [],
   "source": [
    "#STEP 2: Install chrome driver\n",
    "PATH = \"C:/Users/ngautier/Documents/Chrome Driver/chromedriver.exe\""
   ]
  },
  {
   "cell_type": "code",
   "execution_count": 3,
   "metadata": {},
   "outputs": [],
   "source": [
    "#STEP 3: Imports\n",
    "from selenium import webdriver\n",
    "from selenium.webdriver.common.by import By\n",
    "from selenium.webdriver.support.ui import WebDriverWait\n",
    "from selenium.webdriver.support import expected_conditions as EC\n",
    "from selenium.common.exceptions import TimeoutException\n",
    "from selenium.webdriver.common.keys import Keys\n",
    "import pandas as pd\n",
    "import matplotlib.pyplot as plt"
   ]
  },
  {
   "cell_type": "code",
   "execution_count": 4,
   "metadata": {},
   "outputs": [
    {
     "name": "stdout",
     "output_type": "stream",
     "text": [
      "[[0, 'Maison/Villa', '6 p4 ch120 m²', '379 000 €'], [0, 'Maison/Villa', '5 p3 ch208 m²', '479 000 €'], [0, 'Maison/Villa', '4 p3 ch130 m²', '299 000 €'], [0, 'Projet de construction', '3 p2 ch75 m²', '160 420 €'], [0, 'Projet de construction', '3 p2 ch67 m²', '166 500 €'], [0, 'Projet de construction', '6 p4 ch137 m²', '255 100 €'], [0, 'Appartement', '3 p2 ch60 m²', '185 500 €'], [0, 'Appartement', '4 p3 ch68 m²', '158 500 €'], [0, 'Projet de construction', '3 p2 ch65 m²', '156 900 €'], [0, 'Projet de construction', '6 p4 ch122 m²', '241 300 €'], [0, 'Maison/Villa', '5 p3 ch220 m²', '483 000 €'], [0, 'Projet de construction', '3 p2 ch74 m²', '171 400 €'], [0, 'Maison/Villa', '5 p4 ch123 m²', '379 000 €'], [0, 'Appartement neuf', '3 p65,11 m²1 terr', '222 000 €'], [0, 'Appartement', '3 p2 ch62 m²', '210 000 €'], [0, 'Maison/Villa', '5 p3 ch85 m²', '240 000 €'], [0, 'Maison/Villa', '6 p4 ch116 m²', '379 000 €'], [0, 'Appartement', '3 p2 ch1 park', '215 000 €'], [1, 'Appartement', '3 p2 ch57,15 m²', '235 000 €'], [1, 'Appartement neuf', '4 p3 ch83 m²', '213 500 €'], [1, 'Appartement neuf', '3 p2 ch67 m²', '167 000 €'], [1, 'Projet de construction', '6 p4 ch131 m²', '359 900 €'], [1, 'Maison/Villa', '5 p4 ch95 m²', '179 000 €'], [1, 'Maison/Villa', '3 p2 ch72 m²', '264 250 €'], [1, 'Projet de construction', '6 p4 ch132 m²', '507 400 €'], [1, 'Maison/Villa', '4 p3 ch80 m²', '193 000 €'], [1, 'Maison/Villa', '4 p3 ch95 m²', '145 000 €'], [1, 'Appartement', '3 p2 ch81 m²', '149 000 €'], [1, 'Appartement', '3 p2 ch60 m²', '114 500 €'], [1, 'Projet de construction', '6 p4 ch136 m²', '352 000 €'], [1, 'Appartement', '3 p2 ch63 m²', '166 150 €'], [1, 'Maison/Villa', '4 p3 ch80 m²', '251 000 €'], [1, 'Appartement', '3 p2 ch61 m²', '128 000 €'], [1, 'Maison/Villa', '4 p2 ch73,63 m²', '264 250 €'], [1, 'Appartement', '3 p2 ch61 m²', '224 000 €'], [1, 'Appartement', '4 p2 ch80 m²', '163 650 €'], [1, 'Appartement', '4 p3 ch80 m²', '212 000 €'], [1, 'Maison/Villa', '5 p3 ch100 m²', '295 000 €'], [1, 'Appartement', '4 p3 ch78,43 m²', '167 400 €'], [1, 'Appartement', '3 p2 ch81 m²', '149 000 €'], [1, 'Appartement', '3 p2 ch60,98 m²', '225 000 €'], [1, 'Maison/Villa', '5 p4 ch130 m²', '170 000 €'], [1, 'Maison/Villa', '4 p3 ch72 m²', '184 000 €'], [2, 'Appartement neuf', '4 p3 ch89 m²', '225 500 €'], [2, 'Appartement neuf', '4 p3 ch80 m²', '219 000 €'], [2, 'Appartement neuf', '3 p2 ch66 m²', '165 300 €'], [2, 'Appartement neuf', '3 p2 ch66 m²', '165 300 €'], [2, 'Appartement neuf', '3 p2 ch62 m²', '174 000 €'], [2, 'Appartement neuf', '3 p2 ch68 m²', '167 000 €'], [2, 'Appartement neuf', '4 p3 ch79 m²', '223 000 €'], [2, 'Maison/Villa', '1 p1 ch41 m²', '108 500 €'], [2, 'Appartement neuf', '4 p3 ch80 m²', '217 000 €'], [2, 'Appartement neuf', '3 p2 ch62 m²', '163 300 €'], [2, 'Appartement neuf', '4 p3 ch89 m²', '226 000 €'], [2, 'Appartement neuf', '3 p2 ch66 m²', '166 300 €'], [2, 'Appartement neuf', '3 p2 ch59 m²', '162 300 €'], [2, 'Appartement neuf', '3 p2 ch66 m²', '164 300 €'], [2, 'Appartement neuf', '3 p2 ch59 m²', '161 300 €'], [2, 'Appartement neuf', '3 p2 ch62 m²', '164 300 €'], [2, 'Appartement neuf', '3 p2 ch62 m²', '164 300 €'], [2, 'Appartement neuf', '4 p3 ch89 m²', '224 000 €'], [2, 'Appartement neuf', '4 p3 ch89 m²', '224 000 €'], [2, 'Appartement neuf', '3 p2 ch66 m²', '167 000 €'], [2, 'Appartement neuf', '4 p3 ch80 m²', '223 000 €'], [2, 'Maison/Villa', '3 p2 ch58 m²', '95 000 €'], [2, 'Appartement neuf', '3 p3 ch62 m²', '174 000 €'], [2, 'Appartement neuf', '2 p1 ch43,76 m²', '179 500 €'], [2, 'Appartement neuf', '3 p2 ch67,53 m²', '260 000 €'], [3, 'Appartement neuf', '2 p1 ch43,44 m²', '178 500 €'], [3, 'Appartement neuf', '3 p2 ch58,6 m²', '236 000 €'], [3, 'Appartement neuf', '4 p3 ch78,85 m²', '291 500 €'], [3, 'Appartement neuf', '3 p2 ch66,9 m²', '263 000 €'], [3, 'Appartement neuf', '2 p1 ch39,94 m²', '168 500 €'], [3, 'Appartement neuf', '4 p3 ch78,04 m²', '272 000 €'], [3, 'Appartement neuf', '4 p3 ch78,18 m²', '280 500 €'], [3, 'Appartement neuf', '4 p3 ch84,24 m²', '280 500 €'], [3, 'Appartement neuf', '4 p3 ch78,18 m²', '276 500 €'], [3, 'Appartement neuf', '3 p2 ch58,87 m²', '243 500 €'], [3, 'Appartement neuf', '2 p1 ch43,37 m²', '176 500 €'], [3, 'Appartement neuf', '2 p1 ch43,76 m²', '183 500 €'], [3, 'Appartement neuf', '4 p3 ch77,67 m²', '276 000 €'], [3, 'Appartement neuf', '4 p3 ch84,24 m²', '276 500 €'], [3, 'Appartement neuf', '4 p3 ch78,57 m²', '282 500 €'], [3, 'Appartement neuf', '3 p2 ch67,53 m²', '239 000 €'], [3, 'Appartement neuf', '4 p3 ch87,97 m²', '299 500 €'], [3, 'Appartement neuf', '3 p2 ch66,79 m²', '242 000 €'], [3, 'Appartement neuf', '4 p3 ch84,66 m²', '296 000 €'], [3, 'Appartement neuf', '4 p3 ch88,72 m²', '302 500 €'], [3, 'Appartement neuf', '4 p3 ch78,22 m²', '272 500 €'], [3, 'Appartement neuf', '3 p2 ch58,6 m²', '216 500 €'], [3, 'Appartement neuf', '4 p3 ch83,27 m²', '297 500 €'], [3, 'Appartement neuf', '4 p3 ch83,36 m²', '302 500 €'], [3, 'Appartement neuf', '4 p3 ch82,36 m²', '300 500 €'], [4, 'Appartement neuf', '4 p3 ch84,27 m²', '256 500 €'], [4, 'Appartement neuf', '3 p2 ch67,53 m²', '253 500 €'], [4, 'Appartement neuf', '3 p2 ch57,46 m²', '226 500 €'], [4, 'Appartement neuf', '3 p2 ch69,71 m²', '254 000 €'], [4, 'Maison/Villa', '3 p2 ch65 m²', '138 000 €'], [4, 'Appartement', '3 p2 ch65 m²', '138 000 €'], [4, 'Maison/Villa', '6 p4 ch180 m²', '498 000 €'], [4, 'Appartement', '1 p1 terr', '85 000 €'], [4, 'Appartement', '4 p3 ch77,75 m²', '179 500 €'], [4, 'Maison/Villa', '6 p4 ch141 m²', '575 000 €'], [4, 'Appartement', '3 p2 ch57 m²', '237 000 €'], [4, 'Maison/Villa', '8 p5 ch250 m²', '869 000 €'], [4, 'Maison/Villa', '7 p5 ch238 m²', '869 400 €'], [4, 'Maison/Villa', '8 p6 ch355 m²', '607 000 €'], [4, 'Maison/Villa', '6 p4 ch100 m²', '167 800 €'], [4, 'Maison/Villa', '4 p3 ch95 m²', '170 560 €'], [4, 'Appartement', '4 p2 ch62,4 m²', '198 000 €'], [4, 'Appartement', '3 p2 ch60,98 m²', '220 000 €'], [4, 'Maison/Villa', '4 p3 ch97 m²', '236 000 €'], [4, 'Maison/Villa', '5 p4 ch106 m²', '349 800 €'], [4, 'Appartement', '4 p2 ch79 m²', '149 000 €'], [4, 'Maison/Villa', '5 p3 ch93,3 m²', '168 500 €'], [4, 'Appartement', '3 p2 ch62,22 m²', '189 000 €'], [4, 'Appartement', '4 p2 ch85 m²', '181 000 €'], [4, 'Maison/Villa', '5 p4 ch106 m²', '373 000 €'], [5, 'Maison/Villa', '4 p2 ch110 m²', '264 500 €'], [5, 'Appartement', '4 p2 ch79 m²', '149 000 €'], [5, 'Maison/Villa', '7 p5 ch355 m²', '600 000 €'], [5, 'Maison/Villa', '6 p4 ch100 m²', '167 800 €'], [5, 'Maison/Villa', '5 p2 ch100 m²', '177 000 €'], [5, 'Maison/Villa', '4 p2 ch115 m²', '440 000 €'], [5, 'Maison/Villa', '3 p2 ch63 m²', '138 500 €'], [5, 'Maison/Villa', '4 p3 ch130 m²', '188 500 €'], [5, 'Maison/Villa', '5 p3 ch80 m²', '193 000 €'], [5, 'Maison/Villa', '4 p3 ch1 park', '250 000 €'], [5, 'Maison/Villa', '4 p3 ch130 m²', '188 500 €'], [5, 'Appartement neuf', '3 p62,57 m²', '217 100 €'], [5, 'Appartement neuf', '2 p44,69 m²', '165 600 €'], [5, 'Appartement neuf', '4 p78,35 m²', '243 300 €'], [6, 'Appartement', '3 p2 ch65 m²', '133 500 €'], [6, 'Maison/Villa', '4 p3 ch107,81 m²', '233 000 €'], [6, 'Maison/Villa', '5 p4 ch131 m²', '469 000 €'], [6, 'Appartement', '2 p1 ch41 m²', '131 000 €'], [6, 'Appartement', '4 p2 ch76 m²', '159 800 €'], [6, 'Appartement', '3 p2 ch62 m²', '149 000 €'], [6, 'Maison/Villa', '5 p3 ch122 m²', '225 000 €'], [6, 'Maison/Villa', '5 p4 ch131 m²', '469 000 €'], [6, 'Appartement', '2 p1 ch42 m²', '122 475 €'], [6, 'Appartement', '4 p3 ch142,96 m²', '367 500 €'], [6, 'Maison/Villa', '5 p3 ch110 m²', '289 000 €'], [6, 'Appartement', '2 p1 ch41,1 m²', '155 250 €'], [6, 'Appartement', '4 p2 ch82 m²', '175 000 €'], [6, 'Appartement', '3 p2 ch63 m²', '166 150 €'], [6, 'Appartement', '5 p3 ch138 m²', '325 000 €'], [6, 'Maison/Villa', '6 p5 ch150 m²', '189 000 €'], [6, 'Maison/Villa', '6 p4 ch120 m²', '242 000 €'], [6, 'Maison/Villa', '5 p4 ch107 m²', '189 000 €'], [6, 'Maison/Villa', '5 p4 ch140 m²', '483 700 €'], [6, 'Appartement', '3 p2 ch73,14 m²', '192 000 €'], [6, 'Appartement', '4 p3 ch87 m²', '164 000 €'], [6, 'Maison/Villa', '4 p3 ch80 m²', '149 000 €'], [6, 'Appartement', '3 p2 ch62 m²', '149 000 €'], [6, 'Maison/Villa', '5 p3 ch140 m²', '160 000 €'], [6, 'Maison/Villa', '7 p4 ch187 m²', '349 000 €'], [7, 'Maison/Villa', '5 p4 ch135 m²', '245 000 €'], [7, 'Projet de construction', '6 p4 ch99 m²', '355 000 €'], [7, 'Maison/Villa', '4 p3 ch85 m²', '199 500 €'], [7, 'Appartement', '2 p1 ch47,9 m²', '117 000 €'], [7, 'Appartement neuf', '4 p90 m²1 asc', '294 100 €'], [7, 'Appartement neuf', '3 p58 m²1 asc', '184 300 €'], [7, 'Appartement neuf', '3 p61 m²1 asc', '192 000 €'], [7, 'Appartement neuf', '2 p45 m²1 asc', '163 400 €'], [7, 'Appartement neuf', '2 p49 m²1 asc', '169 600 €'], [7, 'Appartement neuf', '2 p53 m²1 asc', '183 400 €'], [7, 'Appartement neuf', '2 p45 m²1 asc', '159 800 €'], [7, 'Appartement neuf', '3 p65 m²1 asc', '202 500 €'], [7, 'Appartement neuf', '3 p61 m²1 asc', '189 600 €'], [7, 'Appartement neuf', '3 p58 m²1 asc', '177 600 €'], [7, 'Appartement neuf', '2 p49 m²1 asc', '190 900 €'], [7, 'Appartement neuf', '3 p67 m²1 asc', '238 000 €'], [7, 'Appartement neuf', '4 p85 m²1 asc', '278 900 €'], [7, 'Appartement neuf', '3 p63 m²1 asc', '190 700 €'], [7, 'Appartement neuf', '2 p45 m²1 asc', '164 500 €'], [7, 'Appartement neuf', '2 p42 m²1 asc', '157 300 €'], [7, 'Appartement neuf', '3 p66 m²1 asc', '228 600 €'], [7, 'Appartement neuf', '4 p79 m²1 asc', '244 500 €'], [7, 'Appartement neuf', '4 p82 m²1 asc', '251 900 €'], [7, 'Appartement neuf', '3 p65 m²1 asc', '205 900 €'], [7, 'Appartement neuf', '3 p56 m²1 asc', '172 200 €'], [8, 'Appartement neuf', '3 p60 m²1 asc', '187 800 €'], [8, 'Appartement neuf', '3 p58 m²1 asc', '180 100 €'], [8, 'Appartement neuf', '3 p65 m²1 asc', '199 500 €'], [8, 'Appartement', '3 p2 ch72 m²', '158 000 €'], [8, 'Maison/Villa', '5 p3 ch85 m²', '164 000 €'], [8, 'Projet de construction', '5 p4 ch103 m²', '291 900 €'], [8, 'Appartement', '2 p1 ch46,07 m²', '137 000 €'], [8, 'Appartement', '5 p2 ch71 m²', '187 000 €'], [8, 'Appartement', '4 p3 ch110 m²', '205 000 €'], [8, 'Appartement', '3 p2 ch124,07 m²', '220 000 €'], [8, 'Maison/Villa', '4 p2 ch85 m²', '190 000 €'], [8, 'Maison/Villa', '3 p2 ch92 m²', '189 800 €'], [8, 'Maison/Villa', '6 p4 ch155 m²', '249 800 €'], [8, 'Maison/Villa', '5 p3 ch63 m²', '178 000 €'], [8, 'Maison/Villa', '6 p3 ch120 m²', '189 500 €'], [8, 'Maison/Villa', '5 p4 ch80 m²', '180 000 €'], [8, 'Maison/Villa', '4 p3 ch110 m²', '192 000 €'], [8, 'Maison/Villa', '6 p6 ch309 m²', '889 000 €'], [8, 'Appartement', '1 p19 m²1 asc', '83 000 €'], [8, 'Appartement', '3 p2 ch73 m²', '131 000 €'], [8, 'Maison/Villa', '7 p5 ch240 m²', '375 000 €'], [8, 'Maison/Villa', '5 p4 ch96 m²', '210 000 €'], [8, 'Maison/Villa', '5 p3 ch115 m²', '267 000 €'], [8, 'Appartement', '2 p1 ch47 m²', '138 000 €'], [8, 'Maison/Villa', '5 p4 ch77 m²', '115 500 €'], [9, 'Maison/Villa', '4 p2 ch80 m²', '195 000 €'], [10, 'Appartement neuf', '3 p2 ch68 m²', '228 000 €'], [10, 'Appartement neuf', '2 p1 ch45 m²', '180 000 €'], [10, 'Appartement neuf', '1 p31 m²2 park', '136 000 €'], [10, 'Appartement', '4 p3 ch80 m²', '212 000 €'], [10, 'Appartement', '5 p2 ch75,77 m²', '97 000 €'], [10, 'Maison/Villa', '7 p3 ch118,63 m²', '399 000 €'], [10, 'Maison/Villa', '5 p3 ch95 m²', '415 000 €'], [10, 'Appartement', '3 p2 ch67 m²', '119 000 €'], [10, 'Appartement', '5 p4 ch92 m²', '130 380 €'], [10, 'Appartement', '4 p3 ch92 m²', '117 000 €'], [10, 'Appartement', '4 p3 ch92 m²', '114 900 €'], [10, 'Maison/Villa', '4 p3 ch110 m²', '230 000 €'], [10, 'Appartement', '3 p1 ch53 m²', '115 990 €'], [10, 'Maison/Villa', '6 p5 ch200 m²', '650 000 €'], [10, 'Appartement', '2 p2 ch66,55 m²', '111 000 €'], [10, 'Appartement', '2 p1 ch35 m²', '80 000 €'], [10, 'Appartement', '4 p3 ch90 m²', '132 500 €'], [10, 'Appartement', '4 p3 ch92 m²', '117 000 €'], [10, 'Appartement', '5 p4 ch93 m²', '144 520 €'], [10, 'Projet de construction', '4 p3 ch83 m²', '202 500 €'], [10, 'Appartement', '3 p2 ch67 m²', '109 900 €'], [10, 'Maison/Villa en viager', '6 p3 ch160 m²', 'bouquet\\n235 769 €'], [10, 'Appartement', '2 p1 ch50 m²', '150 000 €'], [10, 'Maison/Villa', '7 p4 ch207 m²', '420 000 €'], [10, 'Appartement', '3 p2 ch75,93 m²', '139 900 €'], [11, 'Appartement', '2 p1 ch50,26 m²', '190 000 €'], [11, 'Appartement neuf', '3 p60 m²1 park', '206 000 €'], [11, 'Appartement neuf', '2 p40 m²1 park', '144 500 €'], [11, 'Appartement neuf', '3 p60 m²1 park', '210 000 €'], [11, 'Appartement neuf', '3 p67 m²1 park', '306 000 €'], [11, 'Appartement neuf', '2 p44 m²1 park', '154 000 €'], [11, 'Appartement neuf', '3 p65 m²1 park', '232 500 €'], [11, 'Appartement neuf', '3 p61 m²1 park', '230 000 €'], [11, 'Appartement neuf', '2 p40 m²1 park', '144 000 €'], [11, 'Appartement neuf', '3 p62 m²1 park', '210 000 €'], [11, 'Appartement neuf', '3 p65 m²1 park', '228 000 €'], [11, 'Appartement', '3 p2 ch54,62 m²', '236 000 €'], [11, 'Appartement', '4 p2 ch87,82 m²', '358 000 €'], [11, 'Appartement', '4 p2 ch63,4 m²', '260 000 €'], [11, 'Appartement', '5 p3 ch89 m²', '118 000 €'], [11, 'Maison/Villa', '4 p3 ch', '226 000 €'], [11, 'Appartement neuf', '2 p1 ch50,26 m²', '175 000 €'], [11, 'Appartement', '2 p1 ch52 m²', '89 000 €'], [11, 'Maison/Villa', '4 p3 ch110 m²', '223 000 €'], [11, 'Maison/Villa', '6 p3 ch115 m²', '237 000 €'], [11, 'Appartement', '4 p3 ch85,26 m²', '187 000 €'], [11, 'Maison/Villa', '5 p3 ch85 m²', '199 000 €'], [11, 'Maison/Villa', '6 p4 ch110 m²', '229 000 €'], [11, 'Maison/Villa', '5 p3 ch110 m²', '230 000 €'], [11, 'Appartement', '5 p3 ch82,8 m²', '121 000 €'], [12, 'Appartement', '1 p33 m²1 asc', '77 000 €'], [12, 'Maison/Villa', '6 p3 ch96 m²', '220 000 €'], [12, 'Maison/Villa', '5 p3 ch120 m²', '215 000 €'], [12, 'Maison/Villa', '5 p4 ch106 m²', '314 000 €'], [12, 'Maison/Villa', '5 p4 ch130 m²', '380 000 €'], [12, 'Maison/Villa', '4 p3 ch87 m²', '198 900 €']]\n"
     ]
    }
   ],
   "source": [
    "#STEP 4: Acess Webpages Seloger.com (reference: help from Professor)\n",
    "\n",
    "pages = [\"https://www.seloger.com/list.htm?tri=initial&enterprise=0&idtypebien=2,1&idtt=2,5&naturebien=1,2,4&ci=590343&m=search_hp_new\",\n",
    "        \"https://www.seloger.com/list.htm?projects=2,5&types=1,2&natures=1,2,4&places=[{ci:590220}]&enterprise=0&qsVersion=1.0&m=search_refine\",\n",
    "        \"https://www.seloger.com/list.htm?projects=2%2C5&types=1%2C2&natures=1%2C2%2C4&places=%5B%7Bci%3A590220%7D%5D&enterprise=0&qsVersion=1.0&LISTING-LISTpg=2\",\n",
    "        \"https://www.seloger.com/list.htm?projects=2%2C5&types=1%2C2&natures=1%2C2%2C4&places=%5B%7Bci%3A590220%7D%5D&enterprise=0&qsVersion=1.0&LISTING-LISTpg=3\",\n",
    "        \"https://www.seloger.com/list.htm?projects=2%2C5&types=1%2C2&natures=1%2C2%2C4&places=%5B%7Bci%3A590220%7D%5D&enterprise=0&qsVersion=1.0&LISTING-LISTpg=4\",\n",
    "        \"https://www.seloger.com/list.htm?projects=2%2C5&types=1%2C2&natures=1%2C2%2C4&places=%5B%7Bci%3A590220%7D%5D&enterprise=0&qsVersion=1.0&LISTING-LISTpg=5\",\n",
    "        \"https://www.seloger.com/list.htm?projects=2,5&types=1,2&natures=1,2,4&places=[{ci:590507}]&enterprise=0&qsVersion=1.0&m=search_refine\",\n",
    "        \"https://www.seloger.com/list.htm?projects=2%2C5&types=1%2C2&natures=1%2C2%2C4&places=%5B%7Bci%3A590507%7D%5D&enterprise=0&qsVersion=1.0&LISTING-LISTpg=2\",\n",
    "        \"https://www.seloger.com/list.htm?projects=2%2C5&types=1%2C2&natures=1%2C2%2C4&places=%5B%7Bci%3A590507%7D%5D&enterprise=0&qsVersion=1.0&LISTING-LISTpg=3\",\n",
    "        \"https://www.seloger.com/list.htm?projects=2%2C5&types=1%2C2&natures=1%2C2%2C4&places=%5B%7Bci%3A590507%7D%5D&enterprise=0&qsVersion=1.0&LISTING-LISTpg=4\",\n",
    "        \"https://www.seloger.com/list.htm?projects=2,5&types=1,2&natures=1,2,4&places=[{ci:590648}]&enterprise=0&qsVersion=1.0&m=search_refine\",\n",
    "        \"https://www.seloger.com/list.htm?projects=2%2C5&types=1%2C2&natures=1%2C2%2C4&places=%5B%7Bci%3A590648%7D%5D&enterprise=0&qsVersion=1.0&LISTING-LISTpg=2\",\n",
    "        \"https://www.seloger.com/list.htm?projects=2%2C5&types=1%2C2&natures=1%2C2%2C4&places=%5B%7Bci%3A590648%7D%5D&enterprise=0&qsVersion=1.0&LISTING-LISTpg=3\"\n",
    "        ]\n",
    "\n",
    "\n",
    "# Create an empty list:\n",
    "housing_offers = []\n",
    "\n",
    "\n",
    "# User computer path \n",
    "path = \"C:/Users/ngautier/Documents/Chrome Driver/chromedriver.exe\"\n",
    "driver = webdriver.Chrome(path)\n",
    "driver.implicitly_wait(40) #so that google sees less you're a robot\n",
    "\n",
    "\n",
    "# Launch the pages\n",
    "for i in range(0, len (pages)):\n",
    "    driver.get(pages[i])\n",
    "\n",
    "\n",
    "    #Launch the page\n",
    "    driver.get(pages[i])\n",
    "    driver.implicitly_wait(60)\n",
    "    \n",
    "    #Find the block content:\n",
    "    block = driver.find_elements_by_xpath(\"//*[contains(@class, 'block__ShadowedBlock')]\")\n",
    "    \n",
    "    \n",
    "    #Loop through the block of content: \n",
    "    for content in block:\n",
    "\n",
    "         # Handle error, there are some blocks for advertising, not housing info\n",
    "        try: \n",
    "\n",
    "            # Extract information\n",
    "            # Title\n",
    "            title = content.find_element_by_xpath(\".//*[contains(@class, 'ContentZone__Title')]\").text\n",
    "            # House description\n",
    "            description = content.find_element_by_xpath(\".//*[contains(@class, 'ContentZone__Tags')]\").text\n",
    "            # Price    \n",
    "            price = content.find_element_by_xpath(\".//*[contains(@class, 'Price__Label')]\").text\n",
    "\n",
    "            # Print out\n",
    "            housing_offers.append([i,title, description, price])\n",
    "\n",
    "        except:\n",
    "            pass\n",
    "        \n",
    "print(housing_offers)"
   ]
  },
  {
   "cell_type": "code",
   "execution_count": 5,
   "metadata": {},
   "outputs": [],
   "source": [
    "# STEP 5: Create a dataframe\n",
    "df_houses_appartements = pd.DataFrame(housing_offers)\n",
    "df_houses_appartements.to_csv('houses_appartements.csv', index = False, header = True)\n",
    "houses_app = pd.read_csv('houses_appartements.csv')"
   ]
  },
  {
   "cell_type": "code",
   "execution_count": null,
   "metadata": {},
   "outputs": [],
   "source": [
    "# Pages[0] = Lesquin (59810)\n",
    "# Page[1:5] = Thumesnil (59155)\n",
    "# Page[6:9] = Ronchin (59790)\n",
    "# Page[10:12] = Wattignies (59139)"
   ]
  },
  {
   "cell_type": "code",
   "execution_count": 9,
   "metadata": {},
   "outputs": [
    {
     "name": "stdout",
     "output_type": "stream",
     "text": [
      "seloger.com\n"
     ]
    }
   ],
   "source": [
    "# Testing extraction of title \n",
    "driver.get(pages[2])\n",
    "print(driver.title)"
   ]
  },
  {
   "cell_type": "code",
   "execution_count": 7,
   "metadata": {},
   "outputs": [
    {
     "data": {
      "text/html": [
       "<div>\n",
       "<style scoped>\n",
       "    .dataframe tbody tr th:only-of-type {\n",
       "        vertical-align: middle;\n",
       "    }\n",
       "\n",
       "    .dataframe tbody tr th {\n",
       "        vertical-align: top;\n",
       "    }\n",
       "\n",
       "    .dataframe thead th {\n",
       "        text-align: right;\n",
       "    }\n",
       "</style>\n",
       "<table border=\"1\" class=\"dataframe\">\n",
       "  <thead>\n",
       "    <tr style=\"text-align: right;\">\n",
       "      <th></th>\n",
       "      <th>0</th>\n",
       "      <th>1</th>\n",
       "      <th>2</th>\n",
       "      <th>3</th>\n",
       "    </tr>\n",
       "  </thead>\n",
       "  <tbody>\n",
       "    <tr>\n",
       "      <th>0</th>\n",
       "      <td>0</td>\n",
       "      <td>Maison/Villa</td>\n",
       "      <td>6 p4 ch120 m²</td>\n",
       "      <td>379 000 €</td>\n",
       "    </tr>\n",
       "    <tr>\n",
       "      <th>1</th>\n",
       "      <td>0</td>\n",
       "      <td>Maison/Villa</td>\n",
       "      <td>5 p3 ch208 m²</td>\n",
       "      <td>479 000 €</td>\n",
       "    </tr>\n",
       "    <tr>\n",
       "      <th>2</th>\n",
       "      <td>0</td>\n",
       "      <td>Maison/Villa</td>\n",
       "      <td>4 p3 ch130 m²</td>\n",
       "      <td>299 000 €</td>\n",
       "    </tr>\n",
       "    <tr>\n",
       "      <th>3</th>\n",
       "      <td>0</td>\n",
       "      <td>Projet de construction</td>\n",
       "      <td>3 p2 ch75 m²</td>\n",
       "      <td>160 420 €</td>\n",
       "    </tr>\n",
       "    <tr>\n",
       "      <th>4</th>\n",
       "      <td>0</td>\n",
       "      <td>Projet de construction</td>\n",
       "      <td>3 p2 ch67 m²</td>\n",
       "      <td>166 500 €</td>\n",
       "    </tr>\n",
       "  </tbody>\n",
       "</table>\n",
       "</div>"
      ],
      "text/plain": [
       "   0                       1              2          3\n",
       "0  0            Maison/Villa  6 p4 ch120 m²  379 000 €\n",
       "1  0            Maison/Villa  5 p3 ch208 m²  479 000 €\n",
       "2  0            Maison/Villa  4 p3 ch130 m²  299 000 €\n",
       "3  0  Projet de construction   3 p2 ch75 m²  160 420 €\n",
       "4  0  Projet de construction   3 p2 ch67 m²  166 500 €"
      ]
     },
     "execution_count": 7,
     "metadata": {},
     "output_type": "execute_result"
    }
   ],
   "source": [
    "houses_app.head()"
   ]
  },
  {
   "cell_type": "code",
   "execution_count": 8,
   "metadata": {},
   "outputs": [
    {
     "data": {
      "text/html": [
       "<div>\n",
       "<style scoped>\n",
       "    .dataframe tbody tr th:only-of-type {\n",
       "        vertical-align: middle;\n",
       "    }\n",
       "\n",
       "    .dataframe tbody tr th {\n",
       "        vertical-align: top;\n",
       "    }\n",
       "\n",
       "    .dataframe thead th {\n",
       "        text-align: right;\n",
       "    }\n",
       "</style>\n",
       "<table border=\"1\" class=\"dataframe\">\n",
       "  <thead>\n",
       "    <tr style=\"text-align: right;\">\n",
       "      <th></th>\n",
       "      <th>0</th>\n",
       "    </tr>\n",
       "  </thead>\n",
       "  <tbody>\n",
       "    <tr>\n",
       "      <th>count</th>\n",
       "      <td>264.000000</td>\n",
       "    </tr>\n",
       "    <tr>\n",
       "      <th>mean</th>\n",
       "      <td>5.496212</td>\n",
       "    </tr>\n",
       "    <tr>\n",
       "      <th>std</th>\n",
       "      <td>3.552965</td>\n",
       "    </tr>\n",
       "    <tr>\n",
       "      <th>min</th>\n",
       "      <td>0.000000</td>\n",
       "    </tr>\n",
       "    <tr>\n",
       "      <th>25%</th>\n",
       "      <td>2.000000</td>\n",
       "    </tr>\n",
       "    <tr>\n",
       "      <th>50%</th>\n",
       "      <td>5.500000</td>\n",
       "    </tr>\n",
       "    <tr>\n",
       "      <th>75%</th>\n",
       "      <td>8.000000</td>\n",
       "    </tr>\n",
       "    <tr>\n",
       "      <th>max</th>\n",
       "      <td>12.000000</td>\n",
       "    </tr>\n",
       "  </tbody>\n",
       "</table>\n",
       "</div>"
      ],
      "text/plain": [
       "                0\n",
       "count  264.000000\n",
       "mean     5.496212\n",
       "std      3.552965\n",
       "min      0.000000\n",
       "25%      2.000000\n",
       "50%      5.500000\n",
       "75%      8.000000\n",
       "max     12.000000"
      ]
     },
     "execution_count": 8,
     "metadata": {},
     "output_type": "execute_result"
    }
   ],
   "source": [
    "houses_app.describe()"
   ]
  },
  {
   "cell_type": "markdown",
   "metadata": {},
   "source": [
    "## II. PROCESS THE DATA "
   ]
  },
  {
   "cell_type": "markdown",
   "metadata": {},
   "source": [
    "STEP 1: Clean the data:"
   ]
  },
  {
   "cell_type": "code",
   "execution_count": 10,
   "metadata": {},
   "outputs": [
    {
     "name": "stdout",
     "output_type": "stream",
     "text": [
      "     Page                    Type    Description      Price\n",
      "0       0            Maison/Villa  6 p4 ch120 m²  379 000 €\n",
      "1       0            Maison/Villa  5 p3 ch208 m²  479 000 €\n",
      "2       0            Maison/Villa  4 p3 ch130 m²  299 000 €\n",
      "3       0  Projet de construction   3 p2 ch75 m²  160 420 €\n",
      "4       0  Projet de construction   3 p2 ch67 m²  166 500 €\n",
      "..    ...                     ...            ...        ...\n",
      "259    12            Maison/Villa   6 p3 ch96 m²  220 000 €\n",
      "260    12            Maison/Villa  5 p3 ch120 m²  215 000 €\n",
      "261    12            Maison/Villa  5 p4 ch106 m²  314 000 €\n",
      "262    12            Maison/Villa  5 p4 ch130 m²  380 000 €\n",
      "263    12            Maison/Villa   4 p3 ch87 m²  198 900 €\n",
      "\n",
      "[264 rows x 4 columns]\n"
     ]
    }
   ],
   "source": [
    "# Create column names\n",
    "# adding column name to the respective columns \n",
    "houses_app.columns =['Page', 'Type', 'Description', 'Price'] \n",
    "  \n",
    "# displaying the DataFrame \n",
    "print(houses_app)"
   ]
  },
  {
   "cell_type": "code",
   "execution_count": 11,
   "metadata": {},
   "outputs": [
    {
     "name": "stdout",
     "output_type": "stream",
     "text": [
      "     Page        City                    Type    Description      Price\n",
      "0       0     Lesquin            Maison/Villa  6 p4 ch120 m²  379 000 €\n",
      "1       0     Lesquin            Maison/Villa  5 p3 ch208 m²  479 000 €\n",
      "2       0     Lesquin            Maison/Villa  4 p3 ch130 m²  299 000 €\n",
      "3       0     Lesquin  Projet de construction   3 p2 ch75 m²  160 420 €\n",
      "4       0     Lesquin  Projet de construction   3 p2 ch67 m²  166 500 €\n",
      "..    ...         ...                     ...            ...        ...\n",
      "259    12  Wattignies            Maison/Villa   6 p3 ch96 m²  220 000 €\n",
      "260    12  Wattignies            Maison/Villa  5 p3 ch120 m²  215 000 €\n",
      "261    12  Wattignies            Maison/Villa  5 p4 ch106 m²  314 000 €\n",
      "262    12  Wattignies            Maison/Villa  5 p4 ch130 m²  380 000 €\n",
      "263    12  Wattignies            Maison/Villa   4 p3 ch87 m²  198 900 €\n",
      "\n",
      "[264 rows x 5 columns]\n"
     ]
    }
   ],
   "source": [
    "# Add column with city:\n",
    "\n",
    "#Create a function of cities\n",
    "def cities(row):\n",
    "    if row ['Page'] < 1:\n",
    "        val = 'Lesquin'\n",
    "    elif row['Page'] < 6 :\n",
    "        val = 'Faches-Thumesnil '\n",
    "    elif row['Page'] > 9:\n",
    "        val = 'Wattignies'\n",
    "    else:\n",
    "        val = 'Ronchin'\n",
    "    return val\n",
    "\n",
    "#Add it to dataframe:\n",
    "houses_app.insert(1, 'City', houses_app.apply(cities, axis=1))\n",
    "print(houses_app)"
   ]
  },
  {
   "cell_type": "code",
   "execution_count": 12,
   "metadata": {},
   "outputs": [
    {
     "name": "stdout",
     "output_type": "stream",
     "text": [
      "     Page        City Postal Code                    Type    Description  \\\n",
      "0       0     Lesquin       59810            Maison/Villa  6 p4 ch120 m²   \n",
      "1       0     Lesquin       59810            Maison/Villa  5 p3 ch208 m²   \n",
      "2       0     Lesquin       59810            Maison/Villa  4 p3 ch130 m²   \n",
      "3       0     Lesquin       59810  Projet de construction   3 p2 ch75 m²   \n",
      "4       0     Lesquin       59810  Projet de construction   3 p2 ch67 m²   \n",
      "..    ...         ...         ...                     ...            ...   \n",
      "259    12  Wattignies       59139            Maison/Villa   6 p3 ch96 m²   \n",
      "260    12  Wattignies       59139            Maison/Villa  5 p3 ch120 m²   \n",
      "261    12  Wattignies       59139            Maison/Villa  5 p4 ch106 m²   \n",
      "262    12  Wattignies       59139            Maison/Villa  5 p4 ch130 m²   \n",
      "263    12  Wattignies       59139            Maison/Villa   4 p3 ch87 m²   \n",
      "\n",
      "         Price  \n",
      "0    379 000 €  \n",
      "1    479 000 €  \n",
      "2    299 000 €  \n",
      "3    160 420 €  \n",
      "4    166 500 €  \n",
      "..         ...  \n",
      "259  220 000 €  \n",
      "260  215 000 €  \n",
      "261  314 000 €  \n",
      "262  380 000 €  \n",
      "263  198 900 €  \n",
      "\n",
      "[264 rows x 6 columns]\n"
     ]
    }
   ],
   "source": [
    "# Add column with District code\n",
    "\n",
    "#Create a function of cities\n",
    "def Postal_code(row):\n",
    "    if row ['Page'] < 1:\n",
    "        val = '59810'\n",
    "    elif row['Page'] < 6:\n",
    "        val = '59155'\n",
    "    elif row['Page'] > 9:\n",
    "        val = '59139'\n",
    "    else:\n",
    "        val = '59790'\n",
    "    return val\n",
    "\n",
    "\n",
    "#Add it to dataframe:\n",
    "houses_app.insert(2, 'Postal Code', houses_app.apply(Postal_code, axis=1))\n",
    "print(houses_app)"
   ]
  },
  {
   "cell_type": "code",
   "execution_count": 13,
   "metadata": {},
   "outputs": [
    {
     "data": {
      "text/html": [
       "<div>\n",
       "<style scoped>\n",
       "    .dataframe tbody tr th:only-of-type {\n",
       "        vertical-align: middle;\n",
       "    }\n",
       "\n",
       "    .dataframe tbody tr th {\n",
       "        vertical-align: top;\n",
       "    }\n",
       "\n",
       "    .dataframe thead th {\n",
       "        text-align: right;\n",
       "    }\n",
       "</style>\n",
       "<table border=\"1\" class=\"dataframe\">\n",
       "  <thead>\n",
       "    <tr style=\"text-align: right;\">\n",
       "      <th></th>\n",
       "      <th>Page</th>\n",
       "      <th>City</th>\n",
       "      <th>Postal Code</th>\n",
       "      <th>Type</th>\n",
       "      <th>Description</th>\n",
       "      <th>Price</th>\n",
       "    </tr>\n",
       "  </thead>\n",
       "  <tbody>\n",
       "    <tr>\n",
       "      <th>0</th>\n",
       "      <td>0</td>\n",
       "      <td>Lesquin</td>\n",
       "      <td>59810</td>\n",
       "      <td>Maison/Villa</td>\n",
       "      <td>6 p4 ch120 m²</td>\n",
       "      <td>379 000 €</td>\n",
       "    </tr>\n",
       "    <tr>\n",
       "      <th>1</th>\n",
       "      <td>0</td>\n",
       "      <td>Lesquin</td>\n",
       "      <td>59810</td>\n",
       "      <td>Maison/Villa</td>\n",
       "      <td>5 p3 ch208 m²</td>\n",
       "      <td>479 000 €</td>\n",
       "    </tr>\n",
       "    <tr>\n",
       "      <th>2</th>\n",
       "      <td>0</td>\n",
       "      <td>Lesquin</td>\n",
       "      <td>59810</td>\n",
       "      <td>Maison/Villa</td>\n",
       "      <td>4 p3 ch130 m²</td>\n",
       "      <td>299 000 €</td>\n",
       "    </tr>\n",
       "    <tr>\n",
       "      <th>3</th>\n",
       "      <td>0</td>\n",
       "      <td>Lesquin</td>\n",
       "      <td>59810</td>\n",
       "      <td>Projet de construction</td>\n",
       "      <td>3 p2 ch75 m²</td>\n",
       "      <td>160 420 €</td>\n",
       "    </tr>\n",
       "    <tr>\n",
       "      <th>4</th>\n",
       "      <td>0</td>\n",
       "      <td>Lesquin</td>\n",
       "      <td>59810</td>\n",
       "      <td>Projet de construction</td>\n",
       "      <td>3 p2 ch67 m²</td>\n",
       "      <td>166 500 €</td>\n",
       "    </tr>\n",
       "  </tbody>\n",
       "</table>\n",
       "</div>"
      ],
      "text/plain": [
       "   Page     City Postal Code                    Type    Description      Price\n",
       "0     0  Lesquin       59810            Maison/Villa  6 p4 ch120 m²  379 000 €\n",
       "1     0  Lesquin       59810            Maison/Villa  5 p3 ch208 m²  479 000 €\n",
       "2     0  Lesquin       59810            Maison/Villa  4 p3 ch130 m²  299 000 €\n",
       "3     0  Lesquin       59810  Projet de construction   3 p2 ch75 m²  160 420 €\n",
       "4     0  Lesquin       59810  Projet de construction   3 p2 ch67 m²  166 500 €"
      ]
     },
     "execution_count": 13,
     "metadata": {},
     "output_type": "execute_result"
    }
   ],
   "source": [
    "houses_app.head()"
   ]
  },
  {
   "cell_type": "code",
   "execution_count": 14,
   "metadata": {},
   "outputs": [],
   "source": [
    "# Put price column in the right format - integer\n",
    "#Take out € sign\n",
    "houses_app[\"Price\"] = houses_app.Price.str.replace('€', '')\n",
    "houses_app[\"Price\"] = houses_app.Price.str.replace(' ', '')\n",
    "\n",
    "#convert to numeric\n",
    "houses_app['Price']  = pd.to_numeric(houses_app.Price, errors='coerce')"
   ]
  },
  {
   "cell_type": "code",
   "execution_count": 15,
   "metadata": {},
   "outputs": [
    {
     "data": {
      "text/html": [
       "<div>\n",
       "<style scoped>\n",
       "    .dataframe tbody tr th:only-of-type {\n",
       "        vertical-align: middle;\n",
       "    }\n",
       "\n",
       "    .dataframe tbody tr th {\n",
       "        vertical-align: top;\n",
       "    }\n",
       "\n",
       "    .dataframe thead th {\n",
       "        text-align: right;\n",
       "    }\n",
       "</style>\n",
       "<table border=\"1\" class=\"dataframe\">\n",
       "  <thead>\n",
       "    <tr style=\"text-align: right;\">\n",
       "      <th></th>\n",
       "      <th>Page</th>\n",
       "      <th>City</th>\n",
       "      <th>Postal Code</th>\n",
       "      <th>Type</th>\n",
       "      <th>Description</th>\n",
       "      <th>Price</th>\n",
       "    </tr>\n",
       "  </thead>\n",
       "  <tbody>\n",
       "    <tr>\n",
       "      <th>0</th>\n",
       "      <td>0</td>\n",
       "      <td>Lesquin</td>\n",
       "      <td>59810</td>\n",
       "      <td>Maison/Villa</td>\n",
       "      <td>6 p4 ch120 m²</td>\n",
       "      <td>379000.0</td>\n",
       "    </tr>\n",
       "    <tr>\n",
       "      <th>1</th>\n",
       "      <td>0</td>\n",
       "      <td>Lesquin</td>\n",
       "      <td>59810</td>\n",
       "      <td>Maison/Villa</td>\n",
       "      <td>5 p3 ch208 m²</td>\n",
       "      <td>479000.0</td>\n",
       "    </tr>\n",
       "    <tr>\n",
       "      <th>2</th>\n",
       "      <td>0</td>\n",
       "      <td>Lesquin</td>\n",
       "      <td>59810</td>\n",
       "      <td>Maison/Villa</td>\n",
       "      <td>4 p3 ch130 m²</td>\n",
       "      <td>299000.0</td>\n",
       "    </tr>\n",
       "    <tr>\n",
       "      <th>3</th>\n",
       "      <td>0</td>\n",
       "      <td>Lesquin</td>\n",
       "      <td>59810</td>\n",
       "      <td>Projet de construction</td>\n",
       "      <td>3 p2 ch75 m²</td>\n",
       "      <td>160420.0</td>\n",
       "    </tr>\n",
       "    <tr>\n",
       "      <th>4</th>\n",
       "      <td>0</td>\n",
       "      <td>Lesquin</td>\n",
       "      <td>59810</td>\n",
       "      <td>Projet de construction</td>\n",
       "      <td>3 p2 ch67 m²</td>\n",
       "      <td>166500.0</td>\n",
       "    </tr>\n",
       "  </tbody>\n",
       "</table>\n",
       "</div>"
      ],
      "text/plain": [
       "   Page     City Postal Code                    Type    Description     Price\n",
       "0     0  Lesquin       59810            Maison/Villa  6 p4 ch120 m²  379000.0\n",
       "1     0  Lesquin       59810            Maison/Villa  5 p3 ch208 m²  479000.0\n",
       "2     0  Lesquin       59810            Maison/Villa  4 p3 ch130 m²  299000.0\n",
       "3     0  Lesquin       59810  Projet de construction   3 p2 ch75 m²  160420.0\n",
       "4     0  Lesquin       59810  Projet de construction   3 p2 ch67 m²  166500.0"
      ]
     },
     "execution_count": 15,
     "metadata": {},
     "output_type": "execute_result"
    }
   ],
   "source": [
    "houses_app.head()"
   ]
  },
  {
   "cell_type": "code",
   "execution_count": 16,
   "metadata": {},
   "outputs": [
    {
     "data": {
      "text/html": [
       "<div>\n",
       "<style scoped>\n",
       "    .dataframe tbody tr th:only-of-type {\n",
       "        vertical-align: middle;\n",
       "    }\n",
       "\n",
       "    .dataframe tbody tr th {\n",
       "        vertical-align: top;\n",
       "    }\n",
       "\n",
       "    .dataframe thead th {\n",
       "        text-align: right;\n",
       "    }\n",
       "</style>\n",
       "<table border=\"1\" class=\"dataframe\">\n",
       "  <thead>\n",
       "    <tr style=\"text-align: right;\">\n",
       "      <th></th>\n",
       "      <th>Page</th>\n",
       "      <th>City</th>\n",
       "      <th>Postal Code</th>\n",
       "      <th>Type</th>\n",
       "      <th>Description</th>\n",
       "      <th>Price</th>\n",
       "    </tr>\n",
       "  </thead>\n",
       "  <tbody>\n",
       "    <tr>\n",
       "      <th>0</th>\n",
       "      <td>0</td>\n",
       "      <td>Lesquin</td>\n",
       "      <td>59810</td>\n",
       "      <td>Maison/Villa</td>\n",
       "      <td>6 .4 .120</td>\n",
       "      <td>379000.0</td>\n",
       "    </tr>\n",
       "    <tr>\n",
       "      <th>1</th>\n",
       "      <td>0</td>\n",
       "      <td>Lesquin</td>\n",
       "      <td>59810</td>\n",
       "      <td>Maison/Villa</td>\n",
       "      <td>5 .3 .208</td>\n",
       "      <td>479000.0</td>\n",
       "    </tr>\n",
       "    <tr>\n",
       "      <th>2</th>\n",
       "      <td>0</td>\n",
       "      <td>Lesquin</td>\n",
       "      <td>59810</td>\n",
       "      <td>Maison/Villa</td>\n",
       "      <td>4 .3 .130</td>\n",
       "      <td>299000.0</td>\n",
       "    </tr>\n",
       "    <tr>\n",
       "      <th>3</th>\n",
       "      <td>0</td>\n",
       "      <td>Lesquin</td>\n",
       "      <td>59810</td>\n",
       "      <td>Projet de construction</td>\n",
       "      <td>3 .2 .75</td>\n",
       "      <td>160420.0</td>\n",
       "    </tr>\n",
       "    <tr>\n",
       "      <th>4</th>\n",
       "      <td>0</td>\n",
       "      <td>Lesquin</td>\n",
       "      <td>59810</td>\n",
       "      <td>Projet de construction</td>\n",
       "      <td>3 .2 .67</td>\n",
       "      <td>166500.0</td>\n",
       "    </tr>\n",
       "  </tbody>\n",
       "</table>\n",
       "</div>"
      ],
      "text/plain": [
       "   Page     City Postal Code                    Type  Description     Price\n",
       "0     0  Lesquin       59810            Maison/Villa  6 .4 .120    379000.0\n",
       "1     0  Lesquin       59810            Maison/Villa  5 .3 .208    479000.0\n",
       "2     0  Lesquin       59810            Maison/Villa  4 .3 .130    299000.0\n",
       "3     0  Lesquin       59810  Projet de construction   3 .2 .75    160420.0\n",
       "4     0  Lesquin       59810  Projet de construction   3 .2 .67    166500.0"
      ]
     },
     "execution_count": 16,
     "metadata": {},
     "output_type": "execute_result"
    }
   ],
   "source": [
    "# Split column Description into three columns: rooms, bedrooms, square meters\n",
    "\n",
    "#Take out signs\n",
    "houses_app[\"Description\"] = houses_app.Description.str.replace('p', '.')\n",
    "houses_app[\"Description\"] = houses_app.Description.str.replace('ch', '.')\n",
    "houses_app[\"Description\"] = houses_app.Description.str.replace('m²', ' ')\n",
    "houses_app.head()"
   ]
  },
  {
   "cell_type": "code",
   "execution_count": 17,
   "metadata": {},
   "outputs": [],
   "source": [
    "#Split into three columns\n",
    "houses_app[[\"Rooms\", \"Bedrooms\", \"Size\"]] = houses_app[\"Description\"].str.split('.', n=2, expand = True)"
   ]
  },
  {
   "cell_type": "code",
   "execution_count": 18,
   "metadata": {},
   "outputs": [],
   "source": [
    "# Need to change Rooms, Bedrooms and Size to Numeric\n",
    "houses_app['Rooms']  = pd.to_numeric(houses_app.Rooms, errors='coerce')\n",
    "houses_app['Bedrooms']  = pd.to_numeric(houses_app.Bedrooms, errors='coerce')\n",
    "houses_app['Size']  = pd.to_numeric(houses_app.Size, errors='coerce')"
   ]
  },
  {
   "cell_type": "code",
   "execution_count": 19,
   "metadata": {},
   "outputs": [],
   "source": [
    "# Now we don't need the Description column\n",
    "del houses_app[\"Description\"]"
   ]
  },
  {
   "cell_type": "code",
   "execution_count": 20,
   "metadata": {},
   "outputs": [
    {
     "data": {
      "text/html": [
       "<div>\n",
       "<style scoped>\n",
       "    .dataframe tbody tr th:only-of-type {\n",
       "        vertical-align: middle;\n",
       "    }\n",
       "\n",
       "    .dataframe tbody tr th {\n",
       "        vertical-align: top;\n",
       "    }\n",
       "\n",
       "    .dataframe thead th {\n",
       "        text-align: right;\n",
       "    }\n",
       "</style>\n",
       "<table border=\"1\" class=\"dataframe\">\n",
       "  <thead>\n",
       "    <tr style=\"text-align: right;\">\n",
       "      <th></th>\n",
       "      <th>Page</th>\n",
       "      <th>City</th>\n",
       "      <th>Postal Code</th>\n",
       "      <th>Type</th>\n",
       "      <th>Price</th>\n",
       "      <th>Rooms</th>\n",
       "      <th>Bedrooms</th>\n",
       "      <th>Size</th>\n",
       "    </tr>\n",
       "  </thead>\n",
       "  <tbody>\n",
       "    <tr>\n",
       "      <th>0</th>\n",
       "      <td>0</td>\n",
       "      <td>Lesquin</td>\n",
       "      <td>59810</td>\n",
       "      <td>Maison/Villa</td>\n",
       "      <td>379000.0</td>\n",
       "      <td>6</td>\n",
       "      <td>4.0</td>\n",
       "      <td>120.0</td>\n",
       "    </tr>\n",
       "    <tr>\n",
       "      <th>1</th>\n",
       "      <td>0</td>\n",
       "      <td>Lesquin</td>\n",
       "      <td>59810</td>\n",
       "      <td>Maison/Villa</td>\n",
       "      <td>479000.0</td>\n",
       "      <td>5</td>\n",
       "      <td>3.0</td>\n",
       "      <td>208.0</td>\n",
       "    </tr>\n",
       "    <tr>\n",
       "      <th>2</th>\n",
       "      <td>0</td>\n",
       "      <td>Lesquin</td>\n",
       "      <td>59810</td>\n",
       "      <td>Maison/Villa</td>\n",
       "      <td>299000.0</td>\n",
       "      <td>4</td>\n",
       "      <td>3.0</td>\n",
       "      <td>130.0</td>\n",
       "    </tr>\n",
       "    <tr>\n",
       "      <th>3</th>\n",
       "      <td>0</td>\n",
       "      <td>Lesquin</td>\n",
       "      <td>59810</td>\n",
       "      <td>Projet de construction</td>\n",
       "      <td>160420.0</td>\n",
       "      <td>3</td>\n",
       "      <td>2.0</td>\n",
       "      <td>75.0</td>\n",
       "    </tr>\n",
       "    <tr>\n",
       "      <th>4</th>\n",
       "      <td>0</td>\n",
       "      <td>Lesquin</td>\n",
       "      <td>59810</td>\n",
       "      <td>Projet de construction</td>\n",
       "      <td>166500.0</td>\n",
       "      <td>3</td>\n",
       "      <td>2.0</td>\n",
       "      <td>67.0</td>\n",
       "    </tr>\n",
       "  </tbody>\n",
       "</table>\n",
       "</div>"
      ],
      "text/plain": [
       "   Page     City Postal Code                    Type     Price  Rooms  \\\n",
       "0     0  Lesquin       59810            Maison/Villa  379000.0      6   \n",
       "1     0  Lesquin       59810            Maison/Villa  479000.0      5   \n",
       "2     0  Lesquin       59810            Maison/Villa  299000.0      4   \n",
       "3     0  Lesquin       59810  Projet de construction  160420.0      3   \n",
       "4     0  Lesquin       59810  Projet de construction  166500.0      3   \n",
       "\n",
       "   Bedrooms   Size  \n",
       "0       4.0  120.0  \n",
       "1       3.0  208.0  \n",
       "2       3.0  130.0  \n",
       "3       2.0   75.0  \n",
       "4       2.0   67.0  "
      ]
     },
     "execution_count": 20,
     "metadata": {},
     "output_type": "execute_result"
    }
   ],
   "source": [
    "# Final Cleaned table \n",
    "houses_app.head()"
   ]
  },
  {
   "cell_type": "markdown",
   "metadata": {},
   "source": [
    "STEP 2: Calculate the average house price per squared meter for each city "
   ]
  },
  {
   "cell_type": "code",
   "execution_count": 21,
   "metadata": {},
   "outputs": [
    {
     "name": "stdout",
     "output_type": "stream",
     "text": [
      "Page             int64\n",
      "City            object\n",
      "Postal Code     object\n",
      "Type            object\n",
      "Price          float64\n",
      "Rooms            int64\n",
      "Bedrooms       float64\n",
      "Size           float64\n",
      "dtype: object\n"
     ]
    }
   ],
   "source": [
    "# Checking the data types:\n",
    "print(houses_app.dtypes)"
   ]
  },
  {
   "cell_type": "markdown",
   "metadata": {},
   "source": [
    "Calculating average price per m²"
   ]
  },
  {
   "cell_type": "code",
   "execution_count": 22,
   "metadata": {},
   "outputs": [
    {
     "data": {
      "text/html": [
       "<div>\n",
       "<style scoped>\n",
       "    .dataframe tbody tr th:only-of-type {\n",
       "        vertical-align: middle;\n",
       "    }\n",
       "\n",
       "    .dataframe tbody tr th {\n",
       "        vertical-align: top;\n",
       "    }\n",
       "\n",
       "    .dataframe thead th {\n",
       "        text-align: right;\n",
       "    }\n",
       "</style>\n",
       "<table border=\"1\" class=\"dataframe\">\n",
       "  <thead>\n",
       "    <tr style=\"text-align: right;\">\n",
       "      <th></th>\n",
       "      <th>Page</th>\n",
       "      <th>City</th>\n",
       "      <th>Postal Code</th>\n",
       "      <th>Type</th>\n",
       "      <th>Price</th>\n",
       "      <th>Rooms</th>\n",
       "      <th>Bedrooms</th>\n",
       "      <th>Size</th>\n",
       "      <th>Price per m²</th>\n",
       "    </tr>\n",
       "  </thead>\n",
       "  <tbody>\n",
       "    <tr>\n",
       "      <th>0</th>\n",
       "      <td>0</td>\n",
       "      <td>Lesquin</td>\n",
       "      <td>59810</td>\n",
       "      <td>Maison/Villa</td>\n",
       "      <td>379000.0</td>\n",
       "      <td>6</td>\n",
       "      <td>4.0</td>\n",
       "      <td>120.0</td>\n",
       "      <td>3158.333333</td>\n",
       "    </tr>\n",
       "    <tr>\n",
       "      <th>1</th>\n",
       "      <td>0</td>\n",
       "      <td>Lesquin</td>\n",
       "      <td>59810</td>\n",
       "      <td>Maison/Villa</td>\n",
       "      <td>479000.0</td>\n",
       "      <td>5</td>\n",
       "      <td>3.0</td>\n",
       "      <td>208.0</td>\n",
       "      <td>2302.884615</td>\n",
       "    </tr>\n",
       "    <tr>\n",
       "      <th>2</th>\n",
       "      <td>0</td>\n",
       "      <td>Lesquin</td>\n",
       "      <td>59810</td>\n",
       "      <td>Maison/Villa</td>\n",
       "      <td>299000.0</td>\n",
       "      <td>4</td>\n",
       "      <td>3.0</td>\n",
       "      <td>130.0</td>\n",
       "      <td>2300.000000</td>\n",
       "    </tr>\n",
       "    <tr>\n",
       "      <th>3</th>\n",
       "      <td>0</td>\n",
       "      <td>Lesquin</td>\n",
       "      <td>59810</td>\n",
       "      <td>Projet de construction</td>\n",
       "      <td>160420.0</td>\n",
       "      <td>3</td>\n",
       "      <td>2.0</td>\n",
       "      <td>75.0</td>\n",
       "      <td>2138.933333</td>\n",
       "    </tr>\n",
       "    <tr>\n",
       "      <th>4</th>\n",
       "      <td>0</td>\n",
       "      <td>Lesquin</td>\n",
       "      <td>59810</td>\n",
       "      <td>Projet de construction</td>\n",
       "      <td>166500.0</td>\n",
       "      <td>3</td>\n",
       "      <td>2.0</td>\n",
       "      <td>67.0</td>\n",
       "      <td>2485.074627</td>\n",
       "    </tr>\n",
       "  </tbody>\n",
       "</table>\n",
       "</div>"
      ],
      "text/plain": [
       "   Page     City Postal Code                    Type     Price  Rooms  \\\n",
       "0     0  Lesquin       59810            Maison/Villa  379000.0      6   \n",
       "1     0  Lesquin       59810            Maison/Villa  479000.0      5   \n",
       "2     0  Lesquin       59810            Maison/Villa  299000.0      4   \n",
       "3     0  Lesquin       59810  Projet de construction  160420.0      3   \n",
       "4     0  Lesquin       59810  Projet de construction  166500.0      3   \n",
       "\n",
       "   Bedrooms   Size  Price per m²  \n",
       "0       4.0  120.0   3158.333333  \n",
       "1       3.0  208.0   2302.884615  \n",
       "2       3.0  130.0   2300.000000  \n",
       "3       2.0   75.0   2138.933333  \n",
       "4       2.0   67.0   2485.074627  "
      ]
     },
     "execution_count": 22,
     "metadata": {},
     "output_type": "execute_result"
    }
   ],
   "source": [
    "# Calculate Price per meter for each housing offer:\n",
    "\n",
    "# Calculate price per squared meter:\n",
    "houses_app[\"Price\"] / houses_app[\"Size\"] \n",
    "\n",
    "#Add it to Data Frame:\n",
    "houses_app['Price per m²']=houses_app[\"Price\"] / houses_app[\"Size\"] \n",
    "\n",
    "#Check Table:\n",
    "houses_app.head()"
   ]
  },
  {
   "cell_type": "code",
   "execution_count": 23,
   "metadata": {},
   "outputs": [],
   "source": [
    "# Take out NaN values:\n",
    "houses_app = houses_app.dropna()"
   ]
  },
  {
   "cell_type": "code",
   "execution_count": 24,
   "metadata": {},
   "outputs": [],
   "source": [
    "# Put all this in a csv file\n",
    "df_housing_cleaned = pd.DataFrame(houses_app)\n",
    "df_housing_cleaned.to_csv('housing_cleaned.csv', index = False, header = True)\n",
    "housing_cleaned = pd.read_csv('housing_cleaned.csv')"
   ]
  },
  {
   "cell_type": "code",
   "execution_count": 25,
   "metadata": {},
   "outputs": [
    {
     "data": {
      "text/html": [
       "<div>\n",
       "<style scoped>\n",
       "    .dataframe tbody tr th:only-of-type {\n",
       "        vertical-align: middle;\n",
       "    }\n",
       "\n",
       "    .dataframe tbody tr th {\n",
       "        vertical-align: top;\n",
       "    }\n",
       "\n",
       "    .dataframe thead th {\n",
       "        text-align: right;\n",
       "    }\n",
       "</style>\n",
       "<table border=\"1\" class=\"dataframe\">\n",
       "  <thead>\n",
       "    <tr style=\"text-align: right;\">\n",
       "      <th></th>\n",
       "      <th>Page</th>\n",
       "      <th>City</th>\n",
       "      <th>Postal Code</th>\n",
       "      <th>Type</th>\n",
       "      <th>Price</th>\n",
       "      <th>Rooms</th>\n",
       "      <th>Bedrooms</th>\n",
       "      <th>Size</th>\n",
       "      <th>Price per m²</th>\n",
       "    </tr>\n",
       "  </thead>\n",
       "  <tbody>\n",
       "    <tr>\n",
       "      <th>0</th>\n",
       "      <td>0</td>\n",
       "      <td>Lesquin</td>\n",
       "      <td>59810</td>\n",
       "      <td>Maison/Villa</td>\n",
       "      <td>379000.0</td>\n",
       "      <td>6</td>\n",
       "      <td>4.0</td>\n",
       "      <td>120.0</td>\n",
       "      <td>3158.333333</td>\n",
       "    </tr>\n",
       "    <tr>\n",
       "      <th>1</th>\n",
       "      <td>0</td>\n",
       "      <td>Lesquin</td>\n",
       "      <td>59810</td>\n",
       "      <td>Maison/Villa</td>\n",
       "      <td>479000.0</td>\n",
       "      <td>5</td>\n",
       "      <td>3.0</td>\n",
       "      <td>208.0</td>\n",
       "      <td>2302.884615</td>\n",
       "    </tr>\n",
       "    <tr>\n",
       "      <th>2</th>\n",
       "      <td>0</td>\n",
       "      <td>Lesquin</td>\n",
       "      <td>59810</td>\n",
       "      <td>Maison/Villa</td>\n",
       "      <td>299000.0</td>\n",
       "      <td>4</td>\n",
       "      <td>3.0</td>\n",
       "      <td>130.0</td>\n",
       "      <td>2300.000000</td>\n",
       "    </tr>\n",
       "    <tr>\n",
       "      <th>3</th>\n",
       "      <td>0</td>\n",
       "      <td>Lesquin</td>\n",
       "      <td>59810</td>\n",
       "      <td>Projet de construction</td>\n",
       "      <td>160420.0</td>\n",
       "      <td>3</td>\n",
       "      <td>2.0</td>\n",
       "      <td>75.0</td>\n",
       "      <td>2138.933333</td>\n",
       "    </tr>\n",
       "    <tr>\n",
       "      <th>4</th>\n",
       "      <td>0</td>\n",
       "      <td>Lesquin</td>\n",
       "      <td>59810</td>\n",
       "      <td>Projet de construction</td>\n",
       "      <td>166500.0</td>\n",
       "      <td>3</td>\n",
       "      <td>2.0</td>\n",
       "      <td>67.0</td>\n",
       "      <td>2485.074627</td>\n",
       "    </tr>\n",
       "  </tbody>\n",
       "</table>\n",
       "</div>"
      ],
      "text/plain": [
       "   Page     City Postal Code                    Type     Price  Rooms  \\\n",
       "0     0  Lesquin       59810            Maison/Villa  379000.0      6   \n",
       "1     0  Lesquin       59810            Maison/Villa  479000.0      5   \n",
       "2     0  Lesquin       59810            Maison/Villa  299000.0      4   \n",
       "3     0  Lesquin       59810  Projet de construction  160420.0      3   \n",
       "4     0  Lesquin       59810  Projet de construction  166500.0      3   \n",
       "\n",
       "   Bedrooms   Size  Price per m²  \n",
       "0       4.0  120.0   3158.333333  \n",
       "1       3.0  208.0   2302.884615  \n",
       "2       3.0  130.0   2300.000000  \n",
       "3       2.0   75.0   2138.933333  \n",
       "4       2.0   67.0   2485.074627  "
      ]
     },
     "execution_count": 25,
     "metadata": {},
     "output_type": "execute_result"
    }
   ],
   "source": [
    "houses_app.head()"
   ]
  },
  {
   "cell_type": "code",
   "execution_count": 26,
   "metadata": {},
   "outputs": [
    {
     "data": {
      "text/plain": [
       "2400.0715204359194"
      ]
     },
     "execution_count": 26,
     "metadata": {},
     "output_type": "execute_result"
    }
   ],
   "source": [
    "# Calcualte average price per meter:\n",
    "houses_app['Price per m²'].mean()"
   ]
  },
  {
   "cell_type": "code",
   "execution_count": 28,
   "metadata": {},
   "outputs": [
    {
     "name": "stdout",
     "output_type": "stream",
     "text": [
      "City\n",
      "Lesquin              2570.773304\n",
      "Faches-Thumesnil     2513.915913\n",
      "Ronchin              2277.662712\n",
      "Wattignies           2232.313324\n",
      "Name: Price per m², dtype: float64\n"
     ]
    }
   ],
   "source": [
    "# Calculate avergae price per meter for each city:\n",
    "average_price_per_meter = houses_app.groupby('City')['Price per m²'].agg('mean').sort_values(ascending=False)\n",
    "print(average_price_per_meter)"
   ]
  },
  {
   "cell_type": "code",
   "execution_count": 29,
   "metadata": {},
   "outputs": [],
   "source": [
    "#Create Dataframe of Average Price per m² per city\n",
    "df_average_price_meters = pd.DataFrame(average_price_per_meter )\n",
    "df_average_price_meters.to_csv('average_price_meters.csv', index = False, header = True)\n",
    "avg_price_meters = pd.read_csv('average_price_meters.csv')"
   ]
  },
  {
   "cell_type": "code",
   "execution_count": 30,
   "metadata": {},
   "outputs": [
    {
     "data": {
      "text/html": [
       "<div>\n",
       "<style scoped>\n",
       "    .dataframe tbody tr th:only-of-type {\n",
       "        vertical-align: middle;\n",
       "    }\n",
       "\n",
       "    .dataframe tbody tr th {\n",
       "        vertical-align: top;\n",
       "    }\n",
       "\n",
       "    .dataframe thead th {\n",
       "        text-align: right;\n",
       "    }\n",
       "</style>\n",
       "<table border=\"1\" class=\"dataframe\">\n",
       "  <thead>\n",
       "    <tr style=\"text-align: right;\">\n",
       "      <th></th>\n",
       "      <th>Price per m²</th>\n",
       "    </tr>\n",
       "  </thead>\n",
       "  <tbody>\n",
       "    <tr>\n",
       "      <th>0</th>\n",
       "      <td>2570.773304</td>\n",
       "    </tr>\n",
       "    <tr>\n",
       "      <th>1</th>\n",
       "      <td>2513.915913</td>\n",
       "    </tr>\n",
       "    <tr>\n",
       "      <th>2</th>\n",
       "      <td>2277.662712</td>\n",
       "    </tr>\n",
       "    <tr>\n",
       "      <th>3</th>\n",
       "      <td>2232.313324</td>\n",
       "    </tr>\n",
       "  </tbody>\n",
       "</table>\n",
       "</div>"
      ],
      "text/plain": [
       "   Price per m²\n",
       "0   2570.773304\n",
       "1   2513.915913\n",
       "2   2277.662712\n",
       "3   2232.313324"
      ]
     },
     "execution_count": 30,
     "metadata": {},
     "output_type": "execute_result"
    }
   ],
   "source": [
    "avg_price_meters.head()"
   ]
  },
  {
   "cell_type": "code",
   "execution_count": 31,
   "metadata": {
    "scrolled": true
   },
   "outputs": [
    {
     "data": {
      "text/html": [
       "<div>\n",
       "<style scoped>\n",
       "    .dataframe tbody tr th:only-of-type {\n",
       "        vertical-align: middle;\n",
       "    }\n",
       "\n",
       "    .dataframe tbody tr th {\n",
       "        vertical-align: top;\n",
       "    }\n",
       "\n",
       "    .dataframe thead th {\n",
       "        text-align: right;\n",
       "    }\n",
       "</style>\n",
       "<table border=\"1\" class=\"dataframe\">\n",
       "  <thead>\n",
       "    <tr style=\"text-align: right;\">\n",
       "      <th></th>\n",
       "      <th>City</th>\n",
       "      <th>Price per m²</th>\n",
       "    </tr>\n",
       "  </thead>\n",
       "  <tbody>\n",
       "    <tr>\n",
       "      <th>0</th>\n",
       "      <td>Lesquin</td>\n",
       "      <td>2570.773304</td>\n",
       "    </tr>\n",
       "    <tr>\n",
       "      <th>1</th>\n",
       "      <td>Faches-Thumesnil</td>\n",
       "      <td>2513.915913</td>\n",
       "    </tr>\n",
       "    <tr>\n",
       "      <th>2</th>\n",
       "      <td>Ronchin</td>\n",
       "      <td>2277.662712</td>\n",
       "    </tr>\n",
       "    <tr>\n",
       "      <th>3</th>\n",
       "      <td>Wattignies</td>\n",
       "      <td>2232.313324</td>\n",
       "    </tr>\n",
       "  </tbody>\n",
       "</table>\n",
       "</div>"
      ],
      "text/plain": [
       "                City  Price per m²\n",
       "0            Lesquin   2570.773304\n",
       "1  Faches-Thumesnil    2513.915913\n",
       "2            Ronchin   2277.662712\n",
       "3        Wattignies    2232.313324"
      ]
     },
     "execution_count": 31,
     "metadata": {},
     "output_type": "execute_result"
    }
   ],
   "source": [
    "#Add collumn with city names:\n",
    "avg_price_meters.insert(0, \"City\", ['Lesquin', 'Faches-Thumesnil ', 'Ronchin', 'Wattignies '], True)\n",
    "\n",
    "avg_price_meters.head()"
   ]
  },
  {
   "cell_type": "markdown",
   "metadata": {},
   "source": [
    "Calculating average price"
   ]
  },
  {
   "cell_type": "code",
   "execution_count": 32,
   "metadata": {},
   "outputs": [
    {
     "data": {
      "text/plain": [
       "237782.78125"
      ]
     },
     "execution_count": 32,
     "metadata": {},
     "output_type": "execute_result"
    }
   ],
   "source": [
    "# Calcualte average price:\n",
    "houses_app['Price'].mean()"
   ]
  },
  {
   "cell_type": "code",
   "execution_count": 39,
   "metadata": {},
   "outputs": [
    {
     "name": "stdout",
     "output_type": "stream",
     "text": [
      "City\n",
      "Lesquin              271476.250000\n",
      "Faches-Thumesnil     243426.231884\n",
      "Ronchin              235991.477273\n",
      "Wattignies           210373.870968\n",
      "Name: Price, dtype: float64\n"
     ]
    }
   ],
   "source": [
    "# Calculate avergae price for each city:\n",
    "average_price = houses_app.groupby('City')['Price'].agg('mean').sort_values(ascending=False)\n",
    "print(average_price)"
   ]
  },
  {
   "cell_type": "code",
   "execution_count": 40,
   "metadata": {},
   "outputs": [],
   "source": [
    "#Create Dataframe of Average Price= per city\n",
    "df_average_price = pd.DataFrame(average_price)\n",
    "df_average_price.to_csv('average_price.csv', index = False, header = True)\n",
    "avg_price = pd.read_csv('average_price.csv')"
   ]
  },
  {
   "cell_type": "code",
   "execution_count": 41,
   "metadata": {},
   "outputs": [
    {
     "data": {
      "text/html": [
       "<div>\n",
       "<style scoped>\n",
       "    .dataframe tbody tr th:only-of-type {\n",
       "        vertical-align: middle;\n",
       "    }\n",
       "\n",
       "    .dataframe tbody tr th {\n",
       "        vertical-align: top;\n",
       "    }\n",
       "\n",
       "    .dataframe thead th {\n",
       "        text-align: right;\n",
       "    }\n",
       "</style>\n",
       "<table border=\"1\" class=\"dataframe\">\n",
       "  <thead>\n",
       "    <tr style=\"text-align: right;\">\n",
       "      <th></th>\n",
       "      <th>City</th>\n",
       "      <th>Price</th>\n",
       "    </tr>\n",
       "  </thead>\n",
       "  <tbody>\n",
       "    <tr>\n",
       "      <th>0</th>\n",
       "      <td>Lesquin</td>\n",
       "      <td>271476.250000</td>\n",
       "    </tr>\n",
       "    <tr>\n",
       "      <th>1</th>\n",
       "      <td>Faches-Thumesnil</td>\n",
       "      <td>243426.231884</td>\n",
       "    </tr>\n",
       "    <tr>\n",
       "      <th>2</th>\n",
       "      <td>Ronchin</td>\n",
       "      <td>235991.477273</td>\n",
       "    </tr>\n",
       "    <tr>\n",
       "      <th>3</th>\n",
       "      <td>Wattignies</td>\n",
       "      <td>210373.870968</td>\n",
       "    </tr>\n",
       "  </tbody>\n",
       "</table>\n",
       "</div>"
      ],
      "text/plain": [
       "                City          Price\n",
       "0            Lesquin  271476.250000\n",
       "1  Faches-Thumesnil   243426.231884\n",
       "2            Ronchin  235991.477273\n",
       "3        Wattignies   210373.870968"
      ]
     },
     "execution_count": 41,
     "metadata": {},
     "output_type": "execute_result"
    }
   ],
   "source": [
    "#Add collumn with city names:\n",
    "avg_price.insert(0, \"City\", ['Lesquin', 'Faches-Thumesnil ', 'Ronchin', 'Wattignies '], True)\n",
    "\n",
    "avg_price.head()"
   ]
  },
  {
   "cell_type": "markdown",
   "metadata": {},
   "source": [
    " EXTRA - Find the demographics information of the cities (e.g. population, income, unemployment, etc.) "
   ]
  },
  {
   "cell_type": "code",
   "execution_count": 118,
   "metadata": {},
   "outputs": [
    {
     "name": "stdout",
     "output_type": "stream",
     "text": [
      "                City  Population   Average Income (year)  Unemployement Rate\n",
      "0            Lesquin         9398                  34652                 8.9\n",
      "1  Faches-Thumesnil         17835                  29400                14.9\n",
      "2            Ronchin        19920                  28952                 8.0\n",
      "3        Wattignies         15304                  29860                 8.9\n"
     ]
    }
   ],
   "source": [
    "# Import CSV file with demographic data:\n",
    "\n",
    "Demographic_info = pd.read_csv (r'C:\\Users\\ngautier\\OneDrive - IESEG\\Financial Programming\\Individual Project\\Demographic.csv')\n",
    "print (Demographic_info)"
   ]
  },
  {
   "cell_type": "code",
   "execution_count": 70,
   "metadata": {},
   "outputs": [
    {
     "data": {
      "text/html": [
       "<div>\n",
       "<style scoped>\n",
       "    .dataframe tbody tr th:only-of-type {\n",
       "        vertical-align: middle;\n",
       "    }\n",
       "\n",
       "    .dataframe tbody tr th {\n",
       "        vertical-align: top;\n",
       "    }\n",
       "\n",
       "    .dataframe thead th {\n",
       "        text-align: right;\n",
       "    }\n",
       "</style>\n",
       "<table border=\"1\" class=\"dataframe\">\n",
       "  <thead>\n",
       "    <tr style=\"text-align: right;\">\n",
       "      <th></th>\n",
       "      <th>City</th>\n",
       "      <th>Population</th>\n",
       "      <th>Average Income (year)</th>\n",
       "      <th>Unemployement Rate</th>\n",
       "    </tr>\n",
       "  </thead>\n",
       "  <tbody>\n",
       "    <tr>\n",
       "      <th>0</th>\n",
       "      <td>Lesquin</td>\n",
       "      <td>9398</td>\n",
       "      <td>34652</td>\n",
       "      <td>8.9</td>\n",
       "    </tr>\n",
       "    <tr>\n",
       "      <th>1</th>\n",
       "      <td>Faches-Thumesnil</td>\n",
       "      <td>17835</td>\n",
       "      <td>29400</td>\n",
       "      <td>14.9</td>\n",
       "    </tr>\n",
       "    <tr>\n",
       "      <th>2</th>\n",
       "      <td>Ronchin</td>\n",
       "      <td>19920</td>\n",
       "      <td>28952</td>\n",
       "      <td>8.0</td>\n",
       "    </tr>\n",
       "    <tr>\n",
       "      <th>3</th>\n",
       "      <td>Wattignies</td>\n",
       "      <td>15304</td>\n",
       "      <td>29860</td>\n",
       "      <td>8.9</td>\n",
       "    </tr>\n",
       "  </tbody>\n",
       "</table>\n",
       "</div>"
      ],
      "text/plain": [
       "                City  Population   Average Income (year)  Unemployement Rate\n",
       "0            Lesquin         9398                  34652                 8.9\n",
       "1  Faches-Thumesnil         17835                  29400                14.9\n",
       "2            Ronchin        19920                  28952                 8.0\n",
       "3        Wattignies         15304                  29860                 8.9"
      ]
     },
     "execution_count": 70,
     "metadata": {},
     "output_type": "execute_result"
    }
   ],
   "source": [
    "Demographic_info.head()"
   ]
  },
  {
   "cell_type": "code",
   "execution_count": 184,
   "metadata": {},
   "outputs": [
    {
     "data": {
      "text/html": [
       "<div>\n",
       "<style scoped>\n",
       "    .dataframe tbody tr th:only-of-type {\n",
       "        vertical-align: middle;\n",
       "    }\n",
       "\n",
       "    .dataframe tbody tr th {\n",
       "        vertical-align: top;\n",
       "    }\n",
       "\n",
       "    .dataframe thead th {\n",
       "        text-align: right;\n",
       "    }\n",
       "</style>\n",
       "<table border=\"1\" class=\"dataframe\">\n",
       "  <thead>\n",
       "    <tr style=\"text-align: right;\">\n",
       "      <th></th>\n",
       "      <th>City</th>\n",
       "      <th>Population</th>\n",
       "      <th>Average Income (year)</th>\n",
       "      <th>Unemployement Rate</th>\n",
       "      <th>Avg Housing Price</th>\n",
       "      <th>Avg Housing Price per m²</th>\n",
       "      <th>Avg_Housing_Price</th>\n",
       "      <th>Avg Housing Price per m²</th>\n",
       "      <th>Avg Housing Price</th>\n",
       "      <th>Avg Housing Price per m²</th>\n",
       "    </tr>\n",
       "  </thead>\n",
       "  <tbody>\n",
       "    <tr>\n",
       "      <th>0</th>\n",
       "      <td>Lesquin</td>\n",
       "      <td>9398</td>\n",
       "      <td>34652</td>\n",
       "      <td>8.9</td>\n",
       "      <td>271476</td>\n",
       "      <td>2570.77</td>\n",
       "      <td>271476</td>\n",
       "      <td>2570.77</td>\n",
       "      <td>271476</td>\n",
       "      <td>2570.77</td>\n",
       "    </tr>\n",
       "    <tr>\n",
       "      <th>1</th>\n",
       "      <td>Faches-Thumesnil</td>\n",
       "      <td>17835</td>\n",
       "      <td>29400</td>\n",
       "      <td>14.9</td>\n",
       "      <td>243426</td>\n",
       "      <td>2513.91</td>\n",
       "      <td>243426</td>\n",
       "      <td>2513.91</td>\n",
       "      <td>243426</td>\n",
       "      <td>2513.91</td>\n",
       "    </tr>\n",
       "    <tr>\n",
       "      <th>2</th>\n",
       "      <td>Ronchin</td>\n",
       "      <td>19920</td>\n",
       "      <td>28952</td>\n",
       "      <td>8.0</td>\n",
       "      <td>235991</td>\n",
       "      <td>2277.66</td>\n",
       "      <td>235991</td>\n",
       "      <td>2277.66</td>\n",
       "      <td>235991</td>\n",
       "      <td>2277.66</td>\n",
       "    </tr>\n",
       "    <tr>\n",
       "      <th>3</th>\n",
       "      <td>Wattignies</td>\n",
       "      <td>15304</td>\n",
       "      <td>29860</td>\n",
       "      <td>8.9</td>\n",
       "      <td>210373</td>\n",
       "      <td>2232.31</td>\n",
       "      <td>210373</td>\n",
       "      <td>2232.31</td>\n",
       "      <td>210373</td>\n",
       "      <td>2232.31</td>\n",
       "    </tr>\n",
       "  </tbody>\n",
       "</table>\n",
       "</div>"
      ],
      "text/plain": [
       "                City  Population   Average Income (year)  Unemployement Rate  \\\n",
       "0            Lesquin         9398                  34652                 8.9   \n",
       "1  Faches-Thumesnil         17835                  29400                14.9   \n",
       "2            Ronchin        19920                  28952                 8.0   \n",
       "3        Wattignies         15304                  29860                 8.9   \n",
       "\n",
       "  Avg Housing Price Avg Housing Price per m² Avg_Housing_Price  \\\n",
       "0            271476                  2570.77            271476   \n",
       "1           243426                  2513.91            243426    \n",
       "2            235991                  2277.66            235991   \n",
       "3           210373                  2232.31            210373    \n",
       "\n",
       "  Avg Housing Price per m² Avg Housing Price Avg Housing Price per m²  \n",
       "0                  2570.77            271476                  2570.77  \n",
       "1                 2513.91            243426                  2513.91   \n",
       "2                  2277.66            235991                  2277.66  \n",
       "3                 2232.31            210373                  2232.31   "
      ]
     },
     "execution_count": 184,
     "metadata": {},
     "output_type": "execute_result"
    }
   ],
   "source": [
    "#Add collumn with average housing price:\n",
    "Demographic_info.insert(4, \"Avg Housing Price\", ['271476', '243426 ', '235991', '210373 '], True)\n",
    "Demographic_info.insert(5, \"Avg Housing Price per m²\", ['2570.77', '2513.91 ', '2277.66', '2232.31 '], True)\n",
    "\n",
    "Demographic_info.head()"
   ]
  },
  {
   "cell_type": "markdown",
   "metadata": {},
   "source": [
    "## III. PRESENT THE DATA "
   ]
  },
  {
   "cell_type": "markdown",
   "metadata": {},
   "source": [
    "Create visuals of data: "
   ]
  },
  {
   "cell_type": "code",
   "execution_count": 43,
   "metadata": {},
   "outputs": [
    {
     "data": {
      "image/png": "[encoded data removed]",
      "text/plain": [
       "<Figure size 432x288 with 1 Axes>"
      ]
     },
     "metadata": {
      "needs_background": "light"
     },
     "output_type": "display_data"
    }
   ],
   "source": [
    "# Bar graph to compare the average price for each city \n",
    "avg_price.plot.bar(x=\"City\", y=\"Price\", rot=70, title=\"Average price\");"
   ]
  },
  {
   "cell_type": "code",
   "execution_count": 123,
   "metadata": {},
   "outputs": [
    {
     "data": {
      "image/png": "[encoded data removed]",
      "text/plain": [
       "<Figure size 432x288 with 1 Axes>"
      ]
     },
     "metadata": {
      "needs_background": "light"
     },
     "output_type": "display_data"
    }
   ],
   "source": [
    "# Bar graph to compare the avergae price per m² for each city \n",
    "avg_price_meters.plot.bar(x=\"City\", y=\"Price per m²\", rot=70, title=\"Average price per m²\", color = 'purple');"
   ]
  },
  {
   "cell_type": "code",
   "execution_count": 82,
   "metadata": {},
   "outputs": [
    {
     "data": {
      "image/png": "[encoded data removed]",
      "text/plain": [
       "<Figure size 432x288 with 1 Axes>"
      ]
     },
     "metadata": {
      "needs_background": "light"
     },
     "output_type": "display_data"
    }
   ],
   "source": [
    "# Graph of  Income\n",
    "Demographic_info.plot.bar(x=\"City\", y=\"Average Income (year)\", rot=70, title=\"Average Income\", color = 'yellow');"
   ]
  },
  {
   "cell_type": "code",
   "execution_count": 122,
   "metadata": {},
   "outputs": [
    {
     "data": {
      "image/png": "[encoded data removed]",
      "text/plain": [
       "<Figure size 432x288 with 1 Axes>"
      ]
     },
     "metadata": {
      "needs_background": "light"
     },
     "output_type": "display_data"
    }
   ],
   "source": [
    "# Graph of Unemployement rate\n",
    "Demographic_info.plot.bar(x=\"City\", y=\"Unemployement Rate\", rot=70, title=\"Unemployement Rate\", color = 'Green');"
   ]
  },
  {
   "cell_type": "code",
   "execution_count": 127,
   "metadata": {},
   "outputs": [
    {
     "data": {
      "image/png": "[encoded data removed]",
      "text/plain": [
       "<Figure size 432x288 with 1 Axes>"
      ]
     },
     "metadata": {
      "needs_background": "light"
     },
     "output_type": "display_data"
    }
   ],
   "source": [
    "# Combine price and income\n",
    "plt.bar(avg_price['City'], avg_price['Price'], color = 'blue')\n",
    "plt.bar(Demographic_info['City'], Demographic_info['Average Income (year)'], color = 'yellow')\n",
    "\n",
    "plt.show() "
   ]
  },
  {
   "cell_type": "code",
   "execution_count": 120,
   "metadata": {},
   "outputs": [
    {
     "data": {
      "image/png": "[encoded data removed]",
      "text/plain": [
       "<Figure size 432x288 with 1 Axes>"
      ]
     },
     "metadata": {
      "needs_background": "light"
     },
     "output_type": "display_data"
    }
   ],
   "source": [
    "# Combine price per m² and income\n",
    "plt.bar(Demographic_info['City'], Demographic_info['Average Income (year)'], color = 'blue')\n",
    "plt.bar(avg_price_meters['City'], avg_price_meters['Price per m²'], color = 'red')\n",
    "\n",
    "plt.show() "
   ]
  },
  {
   "cell_type": "code",
   "execution_count": 126,
   "metadata": {},
   "outputs": [
    {
     "data": {
      "image/png": "[encoded data removed]",
      "text/plain": [
       "<Figure size 432x288 with 1 Axes>"
      ]
     },
     "metadata": {
      "needs_background": "light"
     },
     "output_type": "display_data"
    }
   ],
   "source": [
    "#Combine all three in a bar graph:\n",
    "plt.bar(avg_price['City'], avg_price['Price'], color = 'blue')\n",
    "plt.bar(Demographic_info['City'], Demographic_info['Average Income (year)'], color = 'yellow')\n",
    "plt.bar(avg_price_meters['City'], avg_price_meters['Price per m²'], color = 'Green')\n",
    "\n",
    "plt.show() "
   ]
  },
  {
   "cell_type": "code",
   "execution_count": 46,
   "metadata": {},
   "outputs": [
    {
     "data": {
      "image/png": "[encoded data removed]",
      "text/plain": [
       "<Figure size 432x288 with 1 Axes>"
      ]
     },
     "metadata": {
      "needs_background": "light"
     },
     "output_type": "display_data"
    }
   ],
   "source": [
    "# Combine all three in one line graph\n",
    "plt.plot(avg_price_meters['City'], avg_price_meters['Price per m²'], color = 'red')\n",
    "plt.plot(avg_price['City'], avg_price['Price'], color = 'green')\n",
    "plt.plot(Demographic_info['City'], Demographic_info['Average Income (year)'], color = 'blue')\n",
    "\n",
    "plt.show() "
   ]
  },
  {
   "cell_type": "markdown",
   "metadata": {},
   "source": [
    "Making a visual map:"
   ]
  },
  {
   "cell_type": "code",
   "execution_count": null,
   "metadata": {},
   "outputs": [],
   "source": [
    "#Install:\n",
    "!pip install folium"
   ]
  },
  {
   "cell_type": "code",
   "execution_count": null,
   "metadata": {},
   "outputs": [],
   "source": [
    "# Import libraries\n",
    "import folium"
   ]
  },
  {
   "cell_type": "code",
   "execution_count": null,
   "metadata": {},
   "outputs": [],
   "source": [
    "# CREATING AN INTERACTIVE MAP:\n",
    "\n",
    "# Create map object\n",
    "m= folium.Map(location = [50.3758, 3.0330], zoom_start = 9)\n",
    "\n",
    "#Create markers for each city\n",
    "folium.Marker([50.5909, 3.1112],\n",
    "              popup = '<strong> Lesquin </strong>',\n",
    "              tooltip = 'Average Housing Price: 271 476 €',\n",
    "              icon = folium.Icon(color = 'lightblue')).add_to(m),\n",
    "folium.Marker([50.3459, 3.4001],\n",
    "              popup = '<strong> Faches-Thumesnil </strong>',\n",
    "              tooltip = 'Average Housing Price: 243 426 €',\n",
    "              icon = folium.Icon(color = 'green')).add_to(m),\n",
    "folium.Marker([50.6059, 3.0787],\n",
    "              popup = '<strong> Ronchin </strong>',\n",
    "              tooltip = 'Average Housing Price: 235 991 €',\n",
    "              icon = folium.Icon(color = 'red')).add_to(m),\n",
    "folium.Marker([50.5814, 3.0440],\n",
    "              popup = '<strong> Wattignies </strong>',\n",
    "              tooltip = 'Average Housing Price: 210 373 €',\n",
    "              icon = folium.Icon(color = 'orange')).add_to(m),\n",
    "\n",
    "\n",
    "#Generate map\n",
    "m.save('map.html')"
   ]
  },
  {
   "cell_type": "code",
   "execution_count": null,
   "metadata": {},
   "outputs": [],
   "source": [
    "#Video that helped me code the map: https://www.youtube.com/watch?v=4RnU5qKTfYY "
   ]
  }
 ],
 "metadata": {
  "kernelspec": {
   "display_name": "Python 3",
   "language": "python",
   "name": "python3"
  },
  "language_info": {
   "codemirror_mode": {
    "name": "ipython",
    "version": 3
   },
   "file_extension": ".py",
   "mimetype": "text/x-python",
   "name": "python",
   "nbconvert_exporter": "python",
   "pygments_lexer": "ipython3",
   "version": "3.8.3"
  }
 },
 "nbformat": 4,
 "nbformat_minor": 4
}
